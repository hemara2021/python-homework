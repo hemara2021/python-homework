{
 "cells": [
  {
   "cell_type": "code",
   "execution_count": 1,
   "id": "583b2cd9",
   "metadata": {},
   "outputs": [],
   "source": [
    "import csv\n",
    "budget_data_path = \"budget_data.csv\"\n",
    "total_number_of_months = 0\n",
    "net_total_amount_of_Profit_Losses = 0\n",
    "average_of_the_changes_in_Profit_Losse = 0\n",
    "the_greatest_increase_in_profits = 0\n",
    "the_greatest_decrease_in_losses = 0\n",
    "changes_in_Profit_Losse = 0\n",
    "line_num = 0\n",
    "net_profit = []\n",
    "net_change = []\n",
    "with open(budget_data_path, \"r\") as budget_data_reader:\n",
    "    budget_data = csv.reader(budget_data_reader, delimiter=\",\")\n",
    "    header = next(budget_data)\n",
    "    line_num += 1\n",
    "    for row in budget_data:\n",
    "        month = (row[0])\n",
    "        gain_loss = int(row[1])\n",
    "        change = int(row[2])\n",
    "        net_profit.append(gain_loss)\n",
    "        net_change.append(change)\n",
    "for change in net_change:\n",
    "    changes_in_Profit_Losse += change\n",
    "    total_number_of_months += 1\n",
    "for gain_loss in net_profit:\n",
    "    net_total_amount_of_Profit_Losses += gain_loss \n",
    "    if the_greatest_decrease_in_losses == 0:\n",
    "        the_greatest_decrease_in_losses = gain_loss\n",
    "    elif gain_loss > the_greatest_increase_in_profits:\n",
    "        the_greatest_increase_in_profits = gain_loss\n",
    "    elif gain_loss < the_greatest_decrease_in_losses:\n",
    "        the_greatest_decrease_in_losses = gain_loss\n",
    "average_of_the_changes_in_Profit_Losse = round(changes_in_Profit_Losse / (total_number_of_months - 1), 2)"
   ]
  },
  {
   "cell_type": "code",
   "execution_count": 2,
   "id": "ad3e05f3",
   "metadata": {},
   "outputs": [
    {
     "name": "stdout",
     "output_type": "stream",
     "text": [
      "Financial Analysis\n",
      "----------------------------\n",
      "Total Months: 86\n",
      "Total: $38382578\n",
      "Average Change: $-2315.12\n",
      "Greatest Increase in Profits: ($1170593)\n",
      "The greatest decrease in losses: ($-1196225)\n"
     ]
    }
   ],
   "source": [
    "financial_analysis = f\"Financial Analysis\\n----------------------------\\nTotal Months: {total_number_of_months}\\nTotal: ${net_total_amount_of_Profit_Losses}\\nAverage Change: ${average_of_the_changes_in_Profit_Losse}\\nGreatest Increase in Profits: (${the_greatest_increase_in_profits})\\nThe greatest decrease in losses: (${the_greatest_decrease_in_losses})\"\n",
    "print(financial_analysis)"
   ]
  },
  {
   "cell_type": "code",
   "execution_count": 3,
   "id": "33e001ac",
   "metadata": {},
   "outputs": [],
   "source": [
    "net_profit_report_path = \"net_profit_report.txt\"\n",
    "with open(net_profit_report_path, \"w\") as net_profit_report:\n",
    "    net_profit_report.write(financial_analysis)\n",
    "    net_profit_report.close()"
   ]
  }
 ],
 "metadata": {
  "kernelspec": {
   "display_name": "Python 3",
   "language": "python",
   "name": "python3"
  },
  "language_info": {
   "codemirror_mode": {
    "name": "ipython",
    "version": 3
   },
   "file_extension": ".py",
   "mimetype": "text/x-python",
   "name": "python",
   "nbconvert_exporter": "python",
   "pygments_lexer": "ipython3",
   "version": "3.8.5"
  }
 },
 "nbformat": 4,
 "nbformat_minor": 5
}
